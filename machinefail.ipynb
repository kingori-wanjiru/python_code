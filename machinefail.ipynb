{
  "nbformat": 4,
  "nbformat_minor": 0,
  "metadata": {
    "colab": {
      "provenance": [],
      "authorship_tag": "ABX9TyNLJbusfJU5aPItpjNvlhxm",
      "include_colab_link": true
    },
    "kernelspec": {
      "name": "python3",
      "display_name": "Python 3"
    },
    "language_info": {
      "name": "python"
    }
  },
  "cells": [
    {
      "cell_type": "markdown",
      "metadata": {
        "id": "view-in-github",
        "colab_type": "text"
      },
      "source": [
        "<a href=\"https://colab.research.google.com/github/kingori-wanjiru/python_code/blob/main/machinefail.ipynb\" target=\"_parent\"><img src=\"https://colab.research.google.com/assets/colab-badge.svg\" alt=\"Open In Colab\"/></a>"
      ]
    },
    {
      "cell_type": "code",
      "execution_count": 21,
      "metadata": {
        "colab": {
          "base_uri": "https://localhost:8080/"
        },
        "id": "0m3jcFlb16d7",
        "outputId": "50077b76-ad59-48e7-cb47-95c09c4bcb10"
      },
      "outputs": [
        {
          "output_type": "stream",
          "name": "stdout",
          "text": [
            "Predicted time in years: 38.83\n"
          ]
        }
      ],
      "source": [
        "from sklearn.model_selection import train_test_split, cross_val_score\n",
        "from sklearn.ensemble import RandomForestRegressor\n",
        "from sklearn.preprocessing import StandardScaler\n",
        "import numpy as np\n",
        "import pandas as pd\n",
        "\n",
        "# Load data\n",
        "claire = pd.read_csv('/content/pred assign.csv')\n",
        "\n",
        "# Feature scaling\n",
        "scaler = StandardScaler()\n",
        "# Assuming X contains your sensor data and y contains the time until failure\n",
        "X = claire[[\"ID\", \"revolutions\", \"humidity\", \"vibration\", \"x1\", \"x2\", \"x3\", \"x4\", \"x5\"]]\n",
        "X_scaled = scaler.fit_transform(X)\n",
        "\n",
        "y = claire[\"Age\"]\n",
        "\n",
        "# Split the data\n",
        "X_train, X_test, y_train, y_test = train_test_split(X_scaled, y, test_size=0.2, random_state=42)\n",
        "\n",
        "# Model training (Random Forest as an example)\n",
        "model = RandomForestRegressor(n_estimators=100, random_state=42)\n",
        "model.fit(X_train, y_train)\n",
        "\n",
        "# Use the model for predictions\n",
        "new_data = pd.DataFrame({\n",
        "    \"ID\": [7],\n",
        "    \"revolutions\": [678.705],\n",
        "    \"humidity\": [73.996],\n",
        "    \"vibration\": [758.67],\n",
        "    \"x1\": [18.01],\n",
        "    \"x2\": [5448.87],\n",
        "    \"x3\": [177.3],\n",
        "    \"x4\": [67.345],\n",
        "    \"x5\": [754.7]\n",
        "})\n",
        "\n",
        "# Scale the new data \n",
        "new_data_scaled = scaler.transform(new_data)\n",
        "\n",
        "predicted_time_until_failure = model.predict(new_data_scaled)\n",
        "print(f\"Predicted time in years: {predicted_time_until_failure[0]}\")\n",
        "maintenance_threshold = 2855765\n",
        "\n",
        "if predicted_time_until_failure > maintenance_threshold:\n",
        "    print(\"Alert: MAINTAIN MACHINE\")"
      ]
    }
  ]
}
