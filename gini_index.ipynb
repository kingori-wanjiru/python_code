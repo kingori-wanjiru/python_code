{
  "nbformat": 4,
  "nbformat_minor": 0,
  "metadata": {
    "colab": {
      "provenance": [],
      "authorship_tag": "ABX9TyOo7ihGfc6RKag5Bd3FgwcN",
      "include_colab_link": true
    },
    "kernelspec": {
      "name": "python3",
      "display_name": "Python 3"
    },
    "language_info": {
      "name": "python"
    }
  },
  "cells": [
    {
      "cell_type": "markdown",
      "metadata": {
        "id": "view-in-github",
        "colab_type": "text"
      },
      "source": [
        "<a href=\"https://colab.research.google.com/github/kingori-wanjiru/python_code/blob/main/gini_index.ipynb\" target=\"_parent\"><img src=\"https://colab.research.google.com/assets/colab-badge.svg\" alt=\"Open In Colab\"/></a>"
      ]
    },
    {
      "cell_type": "code",
      "execution_count": 8,
      "metadata": {
        "colab": {
          "base_uri": "https://localhost:8080/"
        },
        "id": "O0HBAVGiHjKA",
        "outputId": "32cd1316-a5d3-4133-ab2f-d263b4fa6b86"
      },
      "outputs": [
        {
          "output_type": "stream",
          "name": "stdout",
          "text": [
            "Gini index of the whole dataset: 0.6666666666666667\n",
            "Gini index of the decision tree: 0.4444444444444444\n",
            "Accuracy: 1.0\n"
          ]
        }
      ],
      "source": [
        "#gini index calc\n",
        "import pandas as pd\n",
        "import matplotlib.pyplot as plt\n",
        "import numpy as np\n",
        "import seaborn as sns\n",
        "from sklearn.model_selection import train_test_split\n",
        "from sklearn.linear_model import LogisticRegression\n",
        "from sklearn.datasets import load_iris\n",
        "from sklearn.metrics import accuracy_score, classification_report, confusion_matrix\n",
        "from sklearn.tree import DecisionTreeClassifier\n",
        "\n",
        "\n",
        "# Load the Iris dataset\n",
        "data = load_iris()\n",
        "X = data.data\n",
        "y = data.target\n",
        "\n",
        "# Train a decision tree classifier\n",
        "geo = DecisionTreeClassifier(max_depth=1)  # You can adjust the max_depth parameter\n",
        "geo.fit(X, y)\n",
        "\n",
        "# Gini index of the whole dataset\n",
        "gini_index_whole = 1 - sum((np.sum((y == c)) / y.size) ** 2 for c in np.unique(y))\n",
        "\n",
        "# Gini index of the decision tree\n",
        "gini_index_decision_tree = 1 - sum((np.sum((clf.predict(X) == c)) / y.size) ** 2 for c in np.unique(y))\n",
        "\n",
        "print(\"Gini index of the whole dataset:\", gini_index_whole)\n",
        "print(\"Gini index of the decision tree:\", gini_index_decision_tree)\n",
        "# Calculate the accuracy of the decision tree classifier.\n",
        "accuracy = accuracy_score(y_test, y_pred)\n",
        "print('Accuracy:', accuracy)\n",
        ""
      ]
    },
    {
      "cell_type": "code",
      "source": [],
      "metadata": {
        "id": "wWq5NY3mRVMe"
      },
      "execution_count": null,
      "outputs": []
    },
    {
      "cell_type": "markdown",
      "source": [],
      "metadata": {
        "id": "xytqf56gRHn-"
      }
    },
    {
      "cell_type": "markdown",
      "source": [],
      "metadata": {
        "id": "SrZO--DoREXy"
      }
    }
  ]
}